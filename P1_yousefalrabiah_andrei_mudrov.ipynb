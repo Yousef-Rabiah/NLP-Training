{
 "cells": [
  {
   "cell_type": "markdown",
   "metadata": {
    "id": "Ieuh3dub_7bc"
   },
   "source": [
    "#Imports"
   ]
  },
  {
   "cell_type": "code",
   "execution_count": 1,
   "metadata": {
    "id": "g1EKAqVcTvxT"
   },
   "outputs": [],
   "source": [
    "import numpy as np\n",
    "import pandas as pd\n",
    "from sklearn.linear_model import LogisticRegression\n",
    "from sklearn.datasets import load_iris\n",
    "from sklearn.model_selection import train_test_split\n",
    "from sklearn.naive_bayes import MultinomialNB\n",
    "from sklearn.svm import SVC\n",
    "import requests\n",
    "import gzip\n",
    "from io import BytesIO, StringIO\n",
    "from sklearn.ensemble import VotingClassifier\n",
    "from sklearn.metrics import accuracy_score\n",
    "from sklearn.preprocessing import LabelEncoder, StandardScaler\n",
    "from sklearn.model_selection import GridSearchCV,RandomizedSearchCV\n",
    "from sklearn.metrics import confusion_matrix,classification_report,ConfusionMatrixDisplay\n",
    "from sklearn.metrics import precision_recall_fscore_support"
   ]
  },
  {
   "cell_type": "markdown",
   "metadata": {
    "id": "2F-lWtni_6mM"
   },
   "source": [
    "#loading data\n"
   ]
  },
  {
   "cell_type": "code",
   "execution_count": 2,
   "metadata": {
    "colab": {
     "base_uri": "https://localhost:8080/"
    },
    "id": "MVQVNZMG7oO7",
    "outputId": "96c78d1f-3379-4ec0-bdc8-7583a5a56a02"
   },
   "outputs": [
    {
     "name": "stdout",
     "output_type": "stream",
     "text": [
      "         Word  POS Chunk\n",
      "0  Confidence   NN  B-NP\n",
      "1          in   IN  B-PP\n",
      "2         the   DT  B-NP\n",
      "3       pound   NN  I-NP\n",
      "4          is  VBZ  B-VP\n"
     ]
    }
   ],
   "source": [
    "response = requests.get(\"https://www.cnts.ua.ac.be/conll2000/chunking/train.txt.gz\")\n",
    "compressed_file = BytesIO(response.content)\n",
    "\n",
    "decompressed_file = gzip.GzipFile(fileobj=compressed_file)\n",
    "\n",
    "content = decompressed_file.read().decode('utf-8')\n",
    "\n",
    "data = [line.split() for line in content.splitlines() if line]\n",
    "df = pd.DataFrame(data, columns=[\"Word\", \"POS\", \"Chunk\"])\n",
    "\n",
    "print(df.head())"
   ]
  },
  {
   "cell_type": "markdown",
   "metadata": {
    "id": "Eibh2cg5AKx0"
   },
   "source": [
    "#cleaning the data"
   ]
  },
  {
   "cell_type": "code",
   "execution_count": 3,
   "metadata": {
    "colab": {
     "base_uri": "https://localhost:8080/"
    },
    "id": "lL-YDlrsAPQA",
    "outputId": "dbb95490-a1bf-4103-ea38-83cdb8e99e2f"
   },
   "outputs": [
    {
     "data": {
      "text/plain": [
       "Word     0\n",
       "POS      0\n",
       "Chunk    0\n",
       "dtype: int64"
      ]
     },
     "execution_count": 3,
     "metadata": {},
     "output_type": "execute_result"
    }
   ],
   "source": [
    "df.isnull().sum()"
   ]
  },
  {
   "cell_type": "code",
   "execution_count": 4,
   "metadata": {
    "colab": {
     "base_uri": "https://localhost:8080/",
     "height": 174
    },
    "id": "hklG6KC9AjZx",
    "outputId": "e160ee1f-78f7-4842-bfef-8e169b8696ba"
   },
   "outputs": [
    {
     "data": {
      "text/html": [
       "<div>\n",
       "<style scoped>\n",
       "    .dataframe tbody tr th:only-of-type {\n",
       "        vertical-align: middle;\n",
       "    }\n",
       "\n",
       "    .dataframe tbody tr th {\n",
       "        vertical-align: top;\n",
       "    }\n",
       "\n",
       "    .dataframe thead th {\n",
       "        text-align: right;\n",
       "    }\n",
       "</style>\n",
       "<table border=\"1\" class=\"dataframe\">\n",
       "  <thead>\n",
       "    <tr style=\"text-align: right;\">\n",
       "      <th></th>\n",
       "      <th>Word</th>\n",
       "      <th>POS</th>\n",
       "      <th>Chunk</th>\n",
       "    </tr>\n",
       "  </thead>\n",
       "  <tbody>\n",
       "    <tr>\n",
       "      <th>count</th>\n",
       "      <td>211727</td>\n",
       "      <td>211727</td>\n",
       "      <td>211727</td>\n",
       "    </tr>\n",
       "    <tr>\n",
       "      <th>unique</th>\n",
       "      <td>19122</td>\n",
       "      <td>44</td>\n",
       "      <td>22</td>\n",
       "    </tr>\n",
       "    <tr>\n",
       "      <th>top</th>\n",
       "      <td>,</td>\n",
       "      <td>NN</td>\n",
       "      <td>I-NP</td>\n",
       "    </tr>\n",
       "    <tr>\n",
       "      <th>freq</th>\n",
       "      <td>10770</td>\n",
       "      <td>30147</td>\n",
       "      <td>63307</td>\n",
       "    </tr>\n",
       "  </tbody>\n",
       "</table>\n",
       "</div>"
      ],
      "text/plain": [
       "          Word     POS   Chunk\n",
       "count   211727  211727  211727\n",
       "unique   19122      44      22\n",
       "top          ,      NN    I-NP\n",
       "freq     10770   30147   63307"
      ]
     },
     "execution_count": 4,
     "metadata": {},
     "output_type": "execute_result"
    }
   ],
   "source": [
    "df.describe()"
   ]
  },
  {
   "cell_type": "code",
   "execution_count": 5,
   "metadata": {
    "id": "olJgYQMuXoqo"
   },
   "outputs": [],
   "source": [
    "df = df.drop('Chunk', axis=1)"
   ]
  },
  {
   "cell_type": "code",
   "execution_count": 6,
   "metadata": {
    "colab": {
     "base_uri": "https://localhost:8080/",
     "height": 174
    },
    "id": "tayindgVXxBP",
    "outputId": "bbabf868-a948-4c81-d151-3bb9e5606fbe"
   },
   "outputs": [
    {
     "data": {
      "text/html": [
       "<div>\n",
       "<style scoped>\n",
       "    .dataframe tbody tr th:only-of-type {\n",
       "        vertical-align: middle;\n",
       "    }\n",
       "\n",
       "    .dataframe tbody tr th {\n",
       "        vertical-align: top;\n",
       "    }\n",
       "\n",
       "    .dataframe thead th {\n",
       "        text-align: right;\n",
       "    }\n",
       "</style>\n",
       "<table border=\"1\" class=\"dataframe\">\n",
       "  <thead>\n",
       "    <tr style=\"text-align: right;\">\n",
       "      <th></th>\n",
       "      <th>Word</th>\n",
       "      <th>POS</th>\n",
       "    </tr>\n",
       "  </thead>\n",
       "  <tbody>\n",
       "    <tr>\n",
       "      <th>count</th>\n",
       "      <td>211727</td>\n",
       "      <td>211727</td>\n",
       "    </tr>\n",
       "    <tr>\n",
       "      <th>unique</th>\n",
       "      <td>19122</td>\n",
       "      <td>44</td>\n",
       "    </tr>\n",
       "    <tr>\n",
       "      <th>top</th>\n",
       "      <td>,</td>\n",
       "      <td>NN</td>\n",
       "    </tr>\n",
       "    <tr>\n",
       "      <th>freq</th>\n",
       "      <td>10770</td>\n",
       "      <td>30147</td>\n",
       "    </tr>\n",
       "  </tbody>\n",
       "</table>\n",
       "</div>"
      ],
      "text/plain": [
       "          Word     POS\n",
       "count   211727  211727\n",
       "unique   19122      44\n",
       "top          ,      NN\n",
       "freq     10770   30147"
      ]
     },
     "execution_count": 6,
     "metadata": {},
     "output_type": "execute_result"
    }
   ],
   "source": [
    "df.describe()"
   ]
  },
  {
   "cell_type": "markdown",
   "metadata": {
    "id": "bG1I6l9DEY95"
   },
   "source": [
    "#Training"
   ]
  },
  {
   "cell_type": "code",
   "execution_count": 7,
   "metadata": {
    "colab": {
     "base_uri": "https://localhost:8080/"
    },
    "id": "ZFg9WfLQEV6i",
    "outputId": "ac2e54b5-36ea-49ae-abb4-71271d9ecd94"
   },
   "outputs": [
    {
     "data": {
      "text/plain": [
       "0    {'W': 'Confidence', 'len': 10, 'cap': True}\n",
       "1            {'W': 'in', 'len': 2, 'cap': False}\n",
       "2           {'W': 'the', 'len': 3, 'cap': False}\n",
       "3         {'W': 'pound', 'len': 5, 'cap': False}\n",
       "4            {'W': 'is', 'len': 2, 'cap': False}\n",
       "dtype: object"
      ]
     },
     "execution_count": 7,
     "metadata": {},
     "output_type": "execute_result"
    }
   ],
   "source": [
    " # dict vectorizer\n",
    "from sklearn.feature_extraction import DictVectorizer\n",
    "\n",
    "def dictvec(row):\n",
    "    data = {\n",
    "        'W': row['Word'],\n",
    "        'len': len(row['Word']),\n",
    "        'cap': row['Word'][0].isupper(),\n",
    "    }\n",
    "    return data\n",
    "\n",
    "df_dict = df.drop('POS', axis=1).apply(dictvec, axis=1)\n",
    "\n",
    "df_dict.head()"
   ]
  },
  {
   "cell_type": "code",
   "execution_count": 8,
   "metadata": {
    "id": "zmYHAjznJYVl"
   },
   "outputs": [],
   "source": [
    "vectorizer = DictVectorizer(sparse=True)\n",
    "X = vectorizer.fit_transform(df_dict)\n",
    "\n",
    "le = LabelEncoder()\n",
    "y = le.fit_transform(df['POS'])\n",
    "\n",
    "X_train, X_test, y_train, y_test = train_test_split(X, y, test_size=0.2)"
   ]
  },
  {
   "cell_type": "code",
   "execution_count": null,
   "metadata": {
    "id": "D6PLAgrGOnsB"
   },
   "outputs": [],
   "source": [
    "'''\n",
    "df_encoded = df.copy() #onehot encoding, deep vectorizer\n",
    "\n",
    "label_encoders = {}\n",
    "\n",
    "for column in df_encoded.columns:\n",
    "    le = LabelEncoder()\n",
    "    df_encoded[column] = le.fit_transform(df_encoded[column])\n",
    "    label_encoders[column] = le\n",
    "\n",
    "df_encoded.head()"
   ]
  },
  {
   "cell_type": "code",
   "execution_count": null,
   "metadata": {
    "id": "e1Srgj23CWiH"
   },
   "outputs": [],
   "source": [
    "'''\n",
    "X = df_encoded.drop('POS', axis=1)\n",
    "y = df_encoded['POS']\n",
    "\n",
    "X_train, X_test, y_train, y_test = train_test_split(X, y, test_size=0.2)"
   ]
  },
  {
   "cell_type": "code",
   "execution_count": 9,
   "metadata": {
    "id": "MG7QJ_hnRmpB"
   },
   "outputs": [],
   "source": [
    "scaler = StandardScaler(with_mean=False)\n",
    "X_train = scaler.fit_transform(X_train)\n",
    "X_test = scaler.transform(X_test)"
   ]
  },
  {
   "cell_type": "code",
   "execution_count": 10,
   "metadata": {
    "colab": {
     "base_uri": "https://localhost:8080/",
     "height": 170
    },
    "id": "8Rnr2a7WKz3w",
    "outputId": "0add39f4-d265-4717-9487-8ddf7464800f"
   },
   "outputs": [
    {
     "data": {
      "text/html": [
       "<style>#sk-container-id-1 {color: black;background-color: white;}#sk-container-id-1 pre{padding: 0;}#sk-container-id-1 div.sk-toggleable {background-color: white;}#sk-container-id-1 label.sk-toggleable__label {cursor: pointer;display: block;width: 100%;margin-bottom: 0;padding: 0.3em;box-sizing: border-box;text-align: center;}#sk-container-id-1 label.sk-toggleable__label-arrow:before {content: \"▸\";float: left;margin-right: 0.25em;color: #696969;}#sk-container-id-1 label.sk-toggleable__label-arrow:hover:before {color: black;}#sk-container-id-1 div.sk-estimator:hover label.sk-toggleable__label-arrow:before {color: black;}#sk-container-id-1 div.sk-toggleable__content {max-height: 0;max-width: 0;overflow: hidden;text-align: left;background-color: #f0f8ff;}#sk-container-id-1 div.sk-toggleable__content pre {margin: 0.2em;color: black;border-radius: 0.25em;background-color: #f0f8ff;}#sk-container-id-1 input.sk-toggleable__control:checked~div.sk-toggleable__content {max-height: 200px;max-width: 100%;overflow: auto;}#sk-container-id-1 input.sk-toggleable__control:checked~label.sk-toggleable__label-arrow:before {content: \"▾\";}#sk-container-id-1 div.sk-estimator input.sk-toggleable__control:checked~label.sk-toggleable__label {background-color: #d4ebff;}#sk-container-id-1 div.sk-label input.sk-toggleable__control:checked~label.sk-toggleable__label {background-color: #d4ebff;}#sk-container-id-1 input.sk-hidden--visually {border: 0;clip: rect(1px 1px 1px 1px);clip: rect(1px, 1px, 1px, 1px);height: 1px;margin: -1px;overflow: hidden;padding: 0;position: absolute;width: 1px;}#sk-container-id-1 div.sk-estimator {font-family: monospace;background-color: #f0f8ff;border: 1px dotted black;border-radius: 0.25em;box-sizing: border-box;margin-bottom: 0.5em;}#sk-container-id-1 div.sk-estimator:hover {background-color: #d4ebff;}#sk-container-id-1 div.sk-parallel-item::after {content: \"\";width: 100%;border-bottom: 1px solid gray;flex-grow: 1;}#sk-container-id-1 div.sk-label:hover label.sk-toggleable__label {background-color: #d4ebff;}#sk-container-id-1 div.sk-serial::before {content: \"\";position: absolute;border-left: 1px solid gray;box-sizing: border-box;top: 0;bottom: 0;left: 50%;z-index: 0;}#sk-container-id-1 div.sk-serial {display: flex;flex-direction: column;align-items: center;background-color: white;padding-right: 0.2em;padding-left: 0.2em;position: relative;}#sk-container-id-1 div.sk-item {position: relative;z-index: 1;}#sk-container-id-1 div.sk-parallel {display: flex;align-items: stretch;justify-content: center;background-color: white;position: relative;}#sk-container-id-1 div.sk-item::before, #sk-container-id-1 div.sk-parallel-item::before {content: \"\";position: absolute;border-left: 1px solid gray;box-sizing: border-box;top: 0;bottom: 0;left: 50%;z-index: -1;}#sk-container-id-1 div.sk-parallel-item {display: flex;flex-direction: column;z-index: 1;position: relative;background-color: white;}#sk-container-id-1 div.sk-parallel-item:first-child::after {align-self: flex-end;width: 50%;}#sk-container-id-1 div.sk-parallel-item:last-child::after {align-self: flex-start;width: 50%;}#sk-container-id-1 div.sk-parallel-item:only-child::after {width: 0;}#sk-container-id-1 div.sk-dashed-wrapped {border: 1px dashed gray;margin: 0 0.4em 0.5em 0.4em;box-sizing: border-box;padding-bottom: 0.4em;background-color: white;}#sk-container-id-1 div.sk-label label {font-family: monospace;font-weight: bold;display: inline-block;line-height: 1.2em;}#sk-container-id-1 div.sk-label-container {text-align: center;}#sk-container-id-1 div.sk-container {/* jupyter's `normalize.less` sets `[hidden] { display: none; }` but bootstrap.min.css set `[hidden] { display: none !important; }` so we also need the `!important` here to be able to override the default hidden behavior on the sphinx rendered scikit-learn.org. See: https://github.com/scikit-learn/scikit-learn/issues/21755 */display: inline-block !important;position: relative;}#sk-container-id-1 div.sk-text-repr-fallback {display: none;}</style><div id=\"sk-container-id-1\" class=\"sk-top-container\"><div class=\"sk-text-repr-fallback\"><pre>GridSearchCV(cv=5, estimator=MultinomialNB(),\n",
       "             param_grid={&#x27;alpha&#x27;: [0.001, 0.01, 0.1, 0.5, 1.0, 2.0]})</pre><b>In a Jupyter environment, please rerun this cell to show the HTML representation or trust the notebook. <br />On GitHub, the HTML representation is unable to render, please try loading this page with nbviewer.org.</b></div><div class=\"sk-container\" hidden><div class=\"sk-item sk-dashed-wrapped\"><div class=\"sk-label-container\"><div class=\"sk-label sk-toggleable\"><input class=\"sk-toggleable__control sk-hidden--visually\" id=\"sk-estimator-id-1\" type=\"checkbox\" ><label for=\"sk-estimator-id-1\" class=\"sk-toggleable__label sk-toggleable__label-arrow\">GridSearchCV</label><div class=\"sk-toggleable__content\"><pre>GridSearchCV(cv=5, estimator=MultinomialNB(),\n",
       "             param_grid={&#x27;alpha&#x27;: [0.001, 0.01, 0.1, 0.5, 1.0, 2.0]})</pre></div></div></div><div class=\"sk-parallel\"><div class=\"sk-parallel-item\"><div class=\"sk-item\"><div class=\"sk-label-container\"><div class=\"sk-label sk-toggleable\"><input class=\"sk-toggleable__control sk-hidden--visually\" id=\"sk-estimator-id-2\" type=\"checkbox\" ><label for=\"sk-estimator-id-2\" class=\"sk-toggleable__label sk-toggleable__label-arrow\">estimator: MultinomialNB</label><div class=\"sk-toggleable__content\"><pre>MultinomialNB()</pre></div></div></div><div class=\"sk-serial\"><div class=\"sk-item\"><div class=\"sk-estimator sk-toggleable\"><input class=\"sk-toggleable__control sk-hidden--visually\" id=\"sk-estimator-id-3\" type=\"checkbox\" ><label for=\"sk-estimator-id-3\" class=\"sk-toggleable__label sk-toggleable__label-arrow\">MultinomialNB</label><div class=\"sk-toggleable__content\"><pre>MultinomialNB()</pre></div></div></div></div></div></div></div></div></div></div>"
      ],
      "text/plain": [
       "GridSearchCV(cv=5, estimator=MultinomialNB(),\n",
       "             param_grid={'alpha': [0.001, 0.01, 0.1, 0.5, 1.0, 2.0]})"
      ]
     },
     "execution_count": 10,
     "metadata": {},
     "output_type": "execute_result"
    }
   ],
   "source": [
    "#baysian multinomial\n",
    "param_grid = {'alpha': [0.001, 0.01, 0.1, 0.5, 1.0, 2.0]}\n",
    "grid_model = GridSearchCV(MultinomialNB(), param_grid, cv=5)\n",
    "grid_model.fit(X_train, y_train)"
   ]
  },
  {
   "cell_type": "code",
   "execution_count": 11,
   "metadata": {
    "colab": {
     "base_uri": "https://localhost:8080/"
    },
    "id": "-b2pFgofU801",
    "outputId": "15c74766-d1f2-4db9-fa7b-268546bc8f35"
   },
   "outputs": [
    {
     "data": {
      "text/plain": [
       "{'alpha': 2.0}"
      ]
     },
     "execution_count": 11,
     "metadata": {},
     "output_type": "execute_result"
    }
   ],
   "source": [
    "grid_model.best_params_"
   ]
  },
  {
   "cell_type": "code",
   "execution_count": 12,
   "metadata": {
    "id": "yk2n58vlVRHy"
   },
   "outputs": [],
   "source": [
    "best = grid_model.best_estimator_"
   ]
  },
  {
   "cell_type": "code",
   "execution_count": 13,
   "metadata": {
    "colab": {
     "base_uri": "https://localhost:8080/"
    },
    "id": "zxfu7vdaVhET",
    "outputId": "8d879790-f87c-4dcc-d5dd-6dd013c64b3a"
   },
   "outputs": [
    {
     "name": "stdout",
     "output_type": "stream",
     "text": [
      "Classification Report:\n",
      "               precision    recall  f1-score   support\n",
      "\n",
      "           0       1.00      1.00      1.00         7\n",
      "           1       1.00      1.00      1.00       339\n",
      "           2       1.00      0.97      0.99       267\n",
      "           3       1.00      1.00      1.00        52\n",
      "           4       1.00      1.00      1.00        48\n",
      "           5       0.97      1.00      0.99      2154\n",
      "           6       1.00      1.00      1.00      1719\n",
      "           7       1.00      1.00      1.00       226\n",
      "           8       1.00      1.00      1.00      1036\n",
      "           9       1.00      0.84      0.91      1659\n",
      "          10       0.63      0.99      0.77      3767\n",
      "          11       0.91      1.00      0.95        48\n",
      "          12       1.00      0.83      0.91         6\n",
      "          13       0.99      0.94      0.96      4600\n",
      "          14       0.94      0.83      0.88      2646\n",
      "          15       0.86      0.92      0.89       169\n",
      "          16       0.97      0.96      0.97        81\n",
      "          17       1.00      1.00      1.00       447\n",
      "          18       0.98      0.83      0.90      5967\n",
      "          19       0.98      0.86      0.92      3914\n",
      "          20       0.64      0.81      0.71        88\n",
      "          21       0.99      0.89      0.94      2760\n",
      "          22       0.36      0.31      0.33        13\n",
      "          23       0.87      1.00      0.93       367\n",
      "          24       1.00      0.99      0.99       751\n",
      "          25       0.99      1.00      0.99       383\n",
      "          26       0.95      0.89      0.92      1358\n",
      "          27       0.79      0.59      0.67        63\n",
      "          28       1.00      0.94      0.97        35\n",
      "          29       0.22      1.00      0.35        17\n",
      "          31       1.00      1.00      1.00      1054\n",
      "          32       1.00      0.60      0.75         5\n",
      "          33       0.67      0.68      0.68      1191\n",
      "          34       0.87      0.86      0.86      1343\n",
      "          35       0.93      0.81      0.87       640\n",
      "          36       0.84      0.69      0.76       954\n",
      "          37       0.53      0.79      0.64       574\n",
      "          38       0.92      0.86      0.89       898\n",
      "          39       0.42      1.00      0.59       183\n",
      "          40       1.00      1.00      1.00       101\n",
      "          41       1.00      1.00      1.00        11\n",
      "          42       1.00      1.00      1.00       101\n",
      "          43       1.00      1.00      1.00       304\n",
      "\n",
      "    accuracy                           0.90     42346\n",
      "   macro avg       0.89      0.90      0.88     42346\n",
      "weighted avg       0.92      0.90      0.90     42346\n",
      "\n"
     ]
    }
   ],
   "source": [
    "y_pred = best.predict(X_test)\n",
    "print('Classification Report:\\n', classification_report(y_test, y_pred))"
   ]
  },
  {
   "cell_type": "code",
   "execution_count": 14,
   "metadata": {
    "colab": {
     "base_uri": "https://localhost:8080/",
     "height": 74
    },
    "id": "RT5pCUCcK4dS",
    "outputId": "9db8a05e-e40f-4cad-af95-7f42a99863d9"
   },
   "outputs": [
    {
     "data": {
      "text/html": [
       "<style>#sk-container-id-2 {color: black;background-color: white;}#sk-container-id-2 pre{padding: 0;}#sk-container-id-2 div.sk-toggleable {background-color: white;}#sk-container-id-2 label.sk-toggleable__label {cursor: pointer;display: block;width: 100%;margin-bottom: 0;padding: 0.3em;box-sizing: border-box;text-align: center;}#sk-container-id-2 label.sk-toggleable__label-arrow:before {content: \"▸\";float: left;margin-right: 0.25em;color: #696969;}#sk-container-id-2 label.sk-toggleable__label-arrow:hover:before {color: black;}#sk-container-id-2 div.sk-estimator:hover label.sk-toggleable__label-arrow:before {color: black;}#sk-container-id-2 div.sk-toggleable__content {max-height: 0;max-width: 0;overflow: hidden;text-align: left;background-color: #f0f8ff;}#sk-container-id-2 div.sk-toggleable__content pre {margin: 0.2em;color: black;border-radius: 0.25em;background-color: #f0f8ff;}#sk-container-id-2 input.sk-toggleable__control:checked~div.sk-toggleable__content {max-height: 200px;max-width: 100%;overflow: auto;}#sk-container-id-2 input.sk-toggleable__control:checked~label.sk-toggleable__label-arrow:before {content: \"▾\";}#sk-container-id-2 div.sk-estimator input.sk-toggleable__control:checked~label.sk-toggleable__label {background-color: #d4ebff;}#sk-container-id-2 div.sk-label input.sk-toggleable__control:checked~label.sk-toggleable__label {background-color: #d4ebff;}#sk-container-id-2 input.sk-hidden--visually {border: 0;clip: rect(1px 1px 1px 1px);clip: rect(1px, 1px, 1px, 1px);height: 1px;margin: -1px;overflow: hidden;padding: 0;position: absolute;width: 1px;}#sk-container-id-2 div.sk-estimator {font-family: monospace;background-color: #f0f8ff;border: 1px dotted black;border-radius: 0.25em;box-sizing: border-box;margin-bottom: 0.5em;}#sk-container-id-2 div.sk-estimator:hover {background-color: #d4ebff;}#sk-container-id-2 div.sk-parallel-item::after {content: \"\";width: 100%;border-bottom: 1px solid gray;flex-grow: 1;}#sk-container-id-2 div.sk-label:hover label.sk-toggleable__label {background-color: #d4ebff;}#sk-container-id-2 div.sk-serial::before {content: \"\";position: absolute;border-left: 1px solid gray;box-sizing: border-box;top: 0;bottom: 0;left: 50%;z-index: 0;}#sk-container-id-2 div.sk-serial {display: flex;flex-direction: column;align-items: center;background-color: white;padding-right: 0.2em;padding-left: 0.2em;position: relative;}#sk-container-id-2 div.sk-item {position: relative;z-index: 1;}#sk-container-id-2 div.sk-parallel {display: flex;align-items: stretch;justify-content: center;background-color: white;position: relative;}#sk-container-id-2 div.sk-item::before, #sk-container-id-2 div.sk-parallel-item::before {content: \"\";position: absolute;border-left: 1px solid gray;box-sizing: border-box;top: 0;bottom: 0;left: 50%;z-index: -1;}#sk-container-id-2 div.sk-parallel-item {display: flex;flex-direction: column;z-index: 1;position: relative;background-color: white;}#sk-container-id-2 div.sk-parallel-item:first-child::after {align-self: flex-end;width: 50%;}#sk-container-id-2 div.sk-parallel-item:last-child::after {align-self: flex-start;width: 50%;}#sk-container-id-2 div.sk-parallel-item:only-child::after {width: 0;}#sk-container-id-2 div.sk-dashed-wrapped {border: 1px dashed gray;margin: 0 0.4em 0.5em 0.4em;box-sizing: border-box;padding-bottom: 0.4em;background-color: white;}#sk-container-id-2 div.sk-label label {font-family: monospace;font-weight: bold;display: inline-block;line-height: 1.2em;}#sk-container-id-2 div.sk-label-container {text-align: center;}#sk-container-id-2 div.sk-container {/* jupyter's `normalize.less` sets `[hidden] { display: none; }` but bootstrap.min.css set `[hidden] { display: none !important; }` so we also need the `!important` here to be able to override the default hidden behavior on the sphinx rendered scikit-learn.org. See: https://github.com/scikit-learn/scikit-learn/issues/21755 */display: inline-block !important;position: relative;}#sk-container-id-2 div.sk-text-repr-fallback {display: none;}</style><div id=\"sk-container-id-2\" class=\"sk-top-container\"><div class=\"sk-text-repr-fallback\"><pre>LogisticRegression(max_iter=10000, random_state=42)</pre><b>In a Jupyter environment, please rerun this cell to show the HTML representation or trust the notebook. <br />On GitHub, the HTML representation is unable to render, please try loading this page with nbviewer.org.</b></div><div class=\"sk-container\" hidden><div class=\"sk-item\"><div class=\"sk-estimator sk-toggleable\"><input class=\"sk-toggleable__control sk-hidden--visually\" id=\"sk-estimator-id-4\" type=\"checkbox\" checked><label for=\"sk-estimator-id-4\" class=\"sk-toggleable__label sk-toggleable__label-arrow\">LogisticRegression</label><div class=\"sk-toggleable__content\"><pre>LogisticRegression(max_iter=10000, random_state=42)</pre></div></div></div></div></div>"
      ],
      "text/plain": [
       "LogisticRegression(max_iter=10000, random_state=42)"
      ]
     },
     "execution_count": 14,
     "metadata": {},
     "output_type": "execute_result"
    }
   ],
   "source": [
    "#log reg\n",
    "logreg = LogisticRegression(max_iter=10000,random_state=42)\n",
    "logreg.fit(X_train, y_train)"
   ]
  },
  {
   "cell_type": "code",
   "execution_count": 15,
   "metadata": {
    "id": "gGWByTdNMjqG"
   },
   "outputs": [],
   "source": [
    "y_pred_logreg = logreg.predict(X_test)"
   ]
  },
  {
   "cell_type": "code",
   "execution_count": 16,
   "metadata": {
    "colab": {
     "base_uri": "https://localhost:8080/"
    },
    "id": "evuMbqPOMnI1",
    "outputId": "a03441db-c2e3-4db6-e276-1b5a6b9140d1"
   },
   "outputs": [
    {
     "name": "stdout",
     "output_type": "stream",
     "text": [
      "Weighted Average Precision: 0.9331917528950955\n",
      "Weighted Average Recall: 0.9299579653332074\n",
      "Weighted Average F1-Score: 0.9288362632164389\n"
     ]
    },
    {
     "name": "stderr",
     "output_type": "stream",
     "text": [
      "/Users/burabiah/anaconda3/lib/python3.10/site-packages/sklearn/metrics/_classification.py:1344: UndefinedMetricWarning: Precision and F-score are ill-defined and being set to 0.0 in labels with no predicted samples. Use `zero_division` parameter to control this behavior.\n",
      "  _warn_prf(average, modifier, msg_start, len(result))\n"
     ]
    }
   ],
   "source": [
    "precision, recall, f1_score, _ = precision_recall_fscore_support(y_test, y_pred_logreg, average='weighted')\n",
    "\n",
    "# the performance metrics\n",
    "print(\"Weighted Average Precision:\", precision)\n",
    "print(\"Weighted Average Recall:\", recall)\n",
    "print(\"Weighted Average F1-Score:\", f1_score)"
   ]
  },
  {
   "cell_type": "code",
   "execution_count": null,
   "metadata": {
    "id": "ZDyfhMtYRk6-"
   },
   "outputs": [],
   "source": []
  },
  {
   "cell_type": "code",
   "execution_count": null,
   "metadata": {
    "id": "tbO0e-PORuaZ"
   },
   "outputs": [],
   "source": []
  },
  {
   "cell_type": "code",
   "execution_count": 17,
   "metadata": {
    "id": "-Um0x8geK8R1"
   },
   "outputs": [
    {
     "data": {
      "text/html": [
       "<style>#sk-container-id-3 {color: black;background-color: white;}#sk-container-id-3 pre{padding: 0;}#sk-container-id-3 div.sk-toggleable {background-color: white;}#sk-container-id-3 label.sk-toggleable__label {cursor: pointer;display: block;width: 100%;margin-bottom: 0;padding: 0.3em;box-sizing: border-box;text-align: center;}#sk-container-id-3 label.sk-toggleable__label-arrow:before {content: \"▸\";float: left;margin-right: 0.25em;color: #696969;}#sk-container-id-3 label.sk-toggleable__label-arrow:hover:before {color: black;}#sk-container-id-3 div.sk-estimator:hover label.sk-toggleable__label-arrow:before {color: black;}#sk-container-id-3 div.sk-toggleable__content {max-height: 0;max-width: 0;overflow: hidden;text-align: left;background-color: #f0f8ff;}#sk-container-id-3 div.sk-toggleable__content pre {margin: 0.2em;color: black;border-radius: 0.25em;background-color: #f0f8ff;}#sk-container-id-3 input.sk-toggleable__control:checked~div.sk-toggleable__content {max-height: 200px;max-width: 100%;overflow: auto;}#sk-container-id-3 input.sk-toggleable__control:checked~label.sk-toggleable__label-arrow:before {content: \"▾\";}#sk-container-id-3 div.sk-estimator input.sk-toggleable__control:checked~label.sk-toggleable__label {background-color: #d4ebff;}#sk-container-id-3 div.sk-label input.sk-toggleable__control:checked~label.sk-toggleable__label {background-color: #d4ebff;}#sk-container-id-3 input.sk-hidden--visually {border: 0;clip: rect(1px 1px 1px 1px);clip: rect(1px, 1px, 1px, 1px);height: 1px;margin: -1px;overflow: hidden;padding: 0;position: absolute;width: 1px;}#sk-container-id-3 div.sk-estimator {font-family: monospace;background-color: #f0f8ff;border: 1px dotted black;border-radius: 0.25em;box-sizing: border-box;margin-bottom: 0.5em;}#sk-container-id-3 div.sk-estimator:hover {background-color: #d4ebff;}#sk-container-id-3 div.sk-parallel-item::after {content: \"\";width: 100%;border-bottom: 1px solid gray;flex-grow: 1;}#sk-container-id-3 div.sk-label:hover label.sk-toggleable__label {background-color: #d4ebff;}#sk-container-id-3 div.sk-serial::before {content: \"\";position: absolute;border-left: 1px solid gray;box-sizing: border-box;top: 0;bottom: 0;left: 50%;z-index: 0;}#sk-container-id-3 div.sk-serial {display: flex;flex-direction: column;align-items: center;background-color: white;padding-right: 0.2em;padding-left: 0.2em;position: relative;}#sk-container-id-3 div.sk-item {position: relative;z-index: 1;}#sk-container-id-3 div.sk-parallel {display: flex;align-items: stretch;justify-content: center;background-color: white;position: relative;}#sk-container-id-3 div.sk-item::before, #sk-container-id-3 div.sk-parallel-item::before {content: \"\";position: absolute;border-left: 1px solid gray;box-sizing: border-box;top: 0;bottom: 0;left: 50%;z-index: -1;}#sk-container-id-3 div.sk-parallel-item {display: flex;flex-direction: column;z-index: 1;position: relative;background-color: white;}#sk-container-id-3 div.sk-parallel-item:first-child::after {align-self: flex-end;width: 50%;}#sk-container-id-3 div.sk-parallel-item:last-child::after {align-self: flex-start;width: 50%;}#sk-container-id-3 div.sk-parallel-item:only-child::after {width: 0;}#sk-container-id-3 div.sk-dashed-wrapped {border: 1px dashed gray;margin: 0 0.4em 0.5em 0.4em;box-sizing: border-box;padding-bottom: 0.4em;background-color: white;}#sk-container-id-3 div.sk-label label {font-family: monospace;font-weight: bold;display: inline-block;line-height: 1.2em;}#sk-container-id-3 div.sk-label-container {text-align: center;}#sk-container-id-3 div.sk-container {/* jupyter's `normalize.less` sets `[hidden] { display: none; }` but bootstrap.min.css set `[hidden] { display: none !important; }` so we also need the `!important` here to be able to override the default hidden behavior on the sphinx rendered scikit-learn.org. See: https://github.com/scikit-learn/scikit-learn/issues/21755 */display: inline-block !important;position: relative;}#sk-container-id-3 div.sk-text-repr-fallback {display: none;}</style><div id=\"sk-container-id-3\" class=\"sk-top-container\"><div class=\"sk-text-repr-fallback\"><pre>SVC(random_state=42)</pre><b>In a Jupyter environment, please rerun this cell to show the HTML representation or trust the notebook. <br />On GitHub, the HTML representation is unable to render, please try loading this page with nbviewer.org.</b></div><div class=\"sk-container\" hidden><div class=\"sk-item\"><div class=\"sk-estimator sk-toggleable\"><input class=\"sk-toggleable__control sk-hidden--visually\" id=\"sk-estimator-id-5\" type=\"checkbox\" checked><label for=\"sk-estimator-id-5\" class=\"sk-toggleable__label sk-toggleable__label-arrow\">SVC</label><div class=\"sk-toggleable__content\"><pre>SVC(random_state=42)</pre></div></div></div></div></div>"
      ],
      "text/plain": [
       "SVC(random_state=42)"
      ]
     },
     "execution_count": 17,
     "metadata": {},
     "output_type": "execute_result"
    }
   ],
   "source": [
    "#svm\n",
    "svm_model = SVC(random_state=42)\n",
    "svm_model.fit(X_train, y_train)"
   ]
  },
  {
   "cell_type": "code",
   "execution_count": 18,
   "metadata": {
    "id": "ne9AAcF6GtFK"
   },
   "outputs": [],
   "source": [
    "y_pred_svm = svm_model.predict(X_test)"
   ]
  },
  {
   "cell_type": "code",
   "execution_count": 19,
   "metadata": {
    "id": "qyyiXiP5Qv-G"
   },
   "outputs": [
    {
     "name": "stdout",
     "output_type": "stream",
     "text": [
      "Weighted Average Precision: 0.9248268711280252\n",
      "Weighted Average Recall: 0.9103339158362065\n",
      "Weighted Average F1-Score: 0.9120341313202538\n",
      "              precision    recall  f1-score   support\n",
      "\n",
      "           0       1.00      1.00      1.00         7\n",
      "           1       1.00      1.00      1.00       339\n",
      "           2       1.00      0.97      0.99       267\n",
      "           3       1.00      1.00      1.00        52\n",
      "           4       1.00      1.00      1.00        48\n",
      "           5       1.00      1.00      1.00      2154\n",
      "           6       1.00      1.00      1.00      1719\n",
      "           7       1.00      1.00      1.00       226\n",
      "           8       1.00      1.00      1.00      1036\n",
      "           9       1.00      0.84      0.91      1659\n",
      "          10       0.97      0.99      0.98      3767\n",
      "          11       0.91      1.00      0.95        48\n",
      "          12       1.00      0.83      0.91         6\n",
      "          13       0.66      1.00      0.80      4600\n",
      "          14       0.94      0.84      0.89      2646\n",
      "          15       0.86      0.92      0.89       169\n",
      "          16       0.97      0.96      0.97        81\n",
      "          17       1.00      0.99      1.00       447\n",
      "          18       0.95      0.90      0.92      5967\n",
      "          19       0.97      0.87      0.92      3914\n",
      "          20       0.85      0.66      0.74        88\n",
      "          21       0.98      0.91      0.95      2760\n",
      "          22       0.00      0.00      0.00        13\n",
      "          23       0.87      1.00      0.93       367\n",
      "          24       1.00      0.98      0.99       751\n",
      "          25       0.99      1.00      0.99       383\n",
      "          26       0.97      0.88      0.93      1358\n",
      "          27       0.95      0.59      0.73        63\n",
      "          28       1.00      0.94      0.97        35\n",
      "          29       0.00      0.00      0.00        17\n",
      "          31       1.00      1.00      1.00      1054\n",
      "          32       1.00      0.60      0.75         5\n",
      "          33       0.81      0.66      0.73      1191\n",
      "          34       0.89      0.84      0.86      1343\n",
      "          35       0.96      0.80      0.87       640\n",
      "          36       0.82      0.73      0.77       954\n",
      "          37       0.75      0.70      0.73       574\n",
      "          38       0.98      0.85      0.91       898\n",
      "          39       1.00      0.51      0.67       183\n",
      "          40       1.00      0.99      1.00       101\n",
      "          41       1.00      1.00      1.00        11\n",
      "          42       1.00      1.00      1.00       101\n",
      "          43       1.00      1.00      1.00       304\n",
      "\n",
      "    accuracy                           0.91     42346\n",
      "   macro avg       0.91      0.85      0.88     42346\n",
      "weighted avg       0.92      0.91      0.91     42346\n",
      "\n"
     ]
    },
    {
     "name": "stderr",
     "output_type": "stream",
     "text": [
      "/Users/burabiah/anaconda3/lib/python3.10/site-packages/sklearn/metrics/_classification.py:1344: UndefinedMetricWarning: Precision and F-score are ill-defined and being set to 0.0 in labels with no predicted samples. Use `zero_division` parameter to control this behavior.\n",
      "  _warn_prf(average, modifier, msg_start, len(result))\n",
      "/Users/burabiah/anaconda3/lib/python3.10/site-packages/sklearn/metrics/_classification.py:1344: UndefinedMetricWarning: Precision and F-score are ill-defined and being set to 0.0 in labels with no predicted samples. Use `zero_division` parameter to control this behavior.\n",
      "  _warn_prf(average, modifier, msg_start, len(result))\n",
      "/Users/burabiah/anaconda3/lib/python3.10/site-packages/sklearn/metrics/_classification.py:1344: UndefinedMetricWarning: Precision and F-score are ill-defined and being set to 0.0 in labels with no predicted samples. Use `zero_division` parameter to control this behavior.\n",
      "  _warn_prf(average, modifier, msg_start, len(result))\n",
      "/Users/burabiah/anaconda3/lib/python3.10/site-packages/sklearn/metrics/_classification.py:1344: UndefinedMetricWarning: Precision and F-score are ill-defined and being set to 0.0 in labels with no predicted samples. Use `zero_division` parameter to control this behavior.\n",
      "  _warn_prf(average, modifier, msg_start, len(result))\n"
     ]
    }
   ],
   "source": [
    "precision, recall, f1_score, _ = precision_recall_fscore_support(y_test, y_pred_svm, average='weighted')\n",
    "\n",
    "# the performance metrics\n",
    "print(\"Weighted Average Precision:\", precision)\n",
    "print(\"Weighted Average Recall:\", recall)\n",
    "print(\"Weighted Average F1-Score:\", f1_score)\n",
    "\n",
    "print(classification_report(y_test,y_pred_svm))"
   ]
  },
  {
   "cell_type": "code",
   "execution_count": 20,
   "metadata": {
    "id": "9N3SceimHb4O"
   },
   "outputs": [],
   "source": [
    "#svm = SVC(kernel='linear',probability=True) #linear\n",
    "\n",
    "best_model = VotingClassifier(estimators=[\n",
    "    ('bayes', grid_model),\n",
    "    ('logistic', logreg),\n",
    "    ('svm_model', svm_model)],\n",
    "    voting='hard') #hard\n"
   ]
  },
  {
   "cell_type": "code",
   "execution_count": 21,
   "metadata": {
    "colab": {
     "base_uri": "https://localhost:8080/",
     "height": 245
    },
    "id": "tYwudDkBGXjK",
    "outputId": "fd6e8f96-8fb5-41a4-8865-ef6dd6720c19"
   },
   "outputs": [
    {
     "name": "stdout",
     "output_type": "stream",
     "text": [
      "Weighted Average Precision: 0.9248268711280252\n",
      "Weighted Average Recall: 0.9103339158362065\n",
      "Weighted Average F1-Score: 0.9120341313202538\n",
      "              precision    recall  f1-score   support\n",
      "\n",
      "           0       1.00      1.00      1.00         7\n",
      "           1       1.00      1.00      1.00       339\n",
      "           2       1.00      0.97      0.99       267\n",
      "           3       1.00      1.00      1.00        52\n",
      "           4       1.00      1.00      1.00        48\n",
      "           5       0.98      1.00      0.99      2154\n",
      "           6       1.00      1.00      1.00      1719\n",
      "           7       1.00      1.00      1.00       226\n",
      "           8       1.00      1.00      1.00      1036\n",
      "           9       1.00      0.84      0.91      1659\n",
      "          10       0.63      0.99      0.77      3767\n",
      "          11       0.91      1.00      0.95        48\n",
      "          12       1.00      0.83      0.91         6\n",
      "          13       0.95      1.00      0.97      4600\n",
      "          14       0.94      0.85      0.89      2646\n",
      "          15       0.86      0.92      0.89       169\n",
      "          16       0.97      0.96      0.97        81\n",
      "          17       1.00      1.00      1.00       447\n",
      "          18       0.95      0.90      0.92      5967\n",
      "          19       0.98      0.87      0.92      3914\n",
      "          20       0.84      0.66      0.74        88\n",
      "          21       0.98      0.91      0.95      2760\n",
      "          22       0.00      0.00      0.00        13\n",
      "          23       0.87      1.00      0.93       367\n",
      "          24       1.00      0.99      0.99       751\n",
      "          25       0.99      1.00      0.99       383\n",
      "          26       0.97      0.88      0.93      1358\n",
      "          27       0.95      0.59      0.73        63\n",
      "          28       1.00      0.94      0.97        35\n",
      "          29       0.00      0.00      0.00        17\n",
      "          31       1.00      1.00      1.00      1054\n",
      "          32       1.00      0.60      0.75         5\n",
      "          33       0.81      0.65      0.73      1191\n",
      "          34       0.87      0.86      0.86      1343\n",
      "          35       0.96      0.80      0.87       640\n",
      "          36       0.83      0.70      0.76       954\n",
      "          37       0.74      0.72      0.73       574\n",
      "          38       0.98      0.85      0.91       898\n",
      "          39       1.00      0.52      0.69       183\n",
      "          40       1.00      1.00      1.00       101\n",
      "          41       1.00      1.00      1.00        11\n",
      "          42       1.00      1.00      1.00       101\n",
      "          43       1.00      1.00      1.00       304\n",
      "\n",
      "    accuracy                           0.91     42346\n",
      "   macro avg       0.91      0.86      0.87     42346\n",
      "weighted avg       0.93      0.91      0.91     42346\n",
      "\n"
     ]
    },
    {
     "name": "stderr",
     "output_type": "stream",
     "text": [
      "/Users/burabiah/anaconda3/lib/python3.10/site-packages/sklearn/metrics/_classification.py:1344: UndefinedMetricWarning: Precision and F-score are ill-defined and being set to 0.0 in labels with no predicted samples. Use `zero_division` parameter to control this behavior.\n",
      "  _warn_prf(average, modifier, msg_start, len(result))\n",
      "/Users/burabiah/anaconda3/lib/python3.10/site-packages/sklearn/metrics/_classification.py:1344: UndefinedMetricWarning: Precision and F-score are ill-defined and being set to 0.0 in labels with no predicted samples. Use `zero_division` parameter to control this behavior.\n",
      "  _warn_prf(average, modifier, msg_start, len(result))\n",
      "/Users/burabiah/anaconda3/lib/python3.10/site-packages/sklearn/metrics/_classification.py:1344: UndefinedMetricWarning: Precision and F-score are ill-defined and being set to 0.0 in labels with no predicted samples. Use `zero_division` parameter to control this behavior.\n",
      "  _warn_prf(average, modifier, msg_start, len(result))\n"
     ]
    }
   ],
   "source": [
    "best_model.fit(X_train, y_train)\n",
    "\n",
    "predictions = best_model.predict(X_test)\n",
    "\n",
    "print(\"Weighted Average Precision:\", precision)\n",
    "print(\"Weighted Average Recall:\", recall)\n",
    "print(\"Weighted Average F1-Score:\", f1_score)\n",
    "\n",
    "print(classification_report(y_test,predictions))"
   ]
  },
  {
   "cell_type": "code",
   "execution_count": 30,
   "metadata": {},
   "outputs": [],
   "source": [
    "with open(\"unlabeled_test_test.txt\", \"r\") as f:\n",
    "    words = [word for word in f.read().splitlines() if word]\n",
    "\n",
    "unlabeled_df = pd.DataFrame(words, columns=[\"Word\"])\n",
    "unlabeled_dict = unlabeled_df.apply(dictvec, axis=1)\n",
    "\n",
    "X_unlabeled = vectorizer.transform(unlabeled_dict)\n",
    "X_unlabeled = scaler.transform(X_unlabeled)\n",
    "\n",
    "predicted_labels = best_model.predict(X_unlabeled)\n",
    "\n",
    "predicted_POS = le.inverse_transform(predicted_labels)\n",
    "\n",
    "with open('yousefalrabiah_andreimudrov.test.txt', 'w') as f:\n",
    "    for word, pos in zip(words, predicted_POS):\n",
    "        f.write(f\"{word} {pos}\\n\")\n"
   ]
  },
  {
   "cell_type": "code",
   "execution_count": null,
   "metadata": {},
   "outputs": [],
   "source": []
  }
 ],
 "metadata": {
  "colab": {
   "provenance": []
  },
  "kernelspec": {
   "display_name": "Python 3 (ipykernel)",
   "language": "python",
   "name": "python3"
  },
  "language_info": {
   "codemirror_mode": {
    "name": "ipython",
    "version": 3
   },
   "file_extension": ".py",
   "mimetype": "text/x-python",
   "name": "python",
   "nbconvert_exporter": "python",
   "pygments_lexer": "ipython3",
   "version": "3.10.9"
  }
 },
 "nbformat": 4,
 "nbformat_minor": 1
}
